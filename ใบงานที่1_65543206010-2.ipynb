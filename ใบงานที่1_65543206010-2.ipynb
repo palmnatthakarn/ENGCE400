{
 "cells": [
  {
   "cell_type": "markdown",
   "id": "f4481792",
   "metadata": {},
   "source": [
    "# ใบงาน 1 Python\n",
    "\n",
    "นางสาว ณัฐกานต์ แก้วสามต่อ รหัส 65543206010-2\n"
   ]
  },
  {
   "cell_type": "markdown",
   "id": "4554fa8f",
   "metadata": {},
   "source": [
    "### ข้อที่5.1 \n",
    "จงเขียนโปรแกรมที่รับ input ทางคีย์บอร์ดเป็นข้อความภาษาอังกฤษ 1-2 ประโยค แล้วสร้าง list ที่\n",
    "เก็บค่าความยาวของแต่ละคำในข้อความดังกล่าว ยกเว้นค าว่า “the” และ “a”\n"
   ]
  },
  {
   "cell_type": "code",
   "execution_count": 33,
   "id": "a3511077",
   "metadata": {
    "scrolled": true
   },
   "outputs": [
    {
     "name": "stdout",
     "output_type": "stream",
     "text": [
      "ป้อนประโยคภาษาอังกฤษ: “Personal happiness lies in knowing that life is not a checklist of acquisition or achievement.”\n",
      "ผลลัพธ์ของจำนวนอักษรแต่ละคำ: [9, 9, 4, 2, 7, 4, 4, 2, 3, 9, 2, 11, 2, 13]\n"
     ]
    }
   ],
   "source": [
    "text = input(\"ป้อนประโยคภาษาอังกฤษ: \")\n",
    "words = text.split()\n",
    "\n",
    "word_lengths = []\n",
    "for word in words:\n",
    "    if word != \"the\" and word != \"a\":\n",
    "        word_lengths.append(len(word))\n",
    "\n",
    "print(\"ผลลัพธ์ของจำนวนอักษรแต่ละคำ:\",word_lengths)"
   ]
  },
  {
   "cell_type": "markdown",
   "id": "38a8796a",
   "metadata": {},
   "source": [
    "### ข้อที่5.2"
   ]
  },
  {
   "cell_type": "markdown",
   "id": "82b94d80",
   "metadata": {},
   "source": [
    "5.2.1 จงเขียนโค้ดเพื่อจำลองการโยนเหรียญ 10 ครั้ง โดยแสดง \"H\" หากเหรียญออกหัว หรือ \"T\" หาก\n",
    "เหรียญออกก้อย (hint: ใช้คำสั่ง rand() )"
   ]
  },
  {
   "cell_type": "code",
   "execution_count": 56,
   "id": "f4433a12",
   "metadata": {},
   "outputs": [
    {
     "name": "stdout",
     "output_type": "stream",
     "text": [
      "ผลลัพธ์ของการโยนเหรียญ 10 ครั้ง: ['H', 'H', 'T', 'H', 'T', 'T', 'H', 'H', 'H', 'T']\n"
     ]
    }
   ],
   "source": [
    "import numpy as np\n",
    "\n",
    "tosses = []\n",
    "\n",
    "for i in range(10):\n",
    "    toss = np.random.rand()\n",
    "    if toss > 0.5:\n",
    "        toss = \"H\"\n",
    "    else:\n",
    "        toss = \"T\"\n",
    "    tosses.append(toss)\n",
    "\n",
    "print(\"ผลลัพธ์ของการโยนเหรียญ 10 ครั้ง:\",tosses)"
   ]
  },
  {
   "cell_type": "markdown",
   "id": "d17fc858",
   "metadata": {},
   "source": [
    "5.2.2 ประกาศตัวแปร num_tosses เพื่อกำหนดจำนวนครั้งที่จะโยน โดยให้ num_tosses เป็น 100\n",
    "ครั้ง จากนั้นให้เก็บผลจากการโยนทั้ง 100 ครั้งไว้ใน list ชื่อ tosses\n"
   ]
  },
  {
   "cell_type": "code",
   "execution_count": 92,
   "id": "efefa501",
   "metadata": {},
   "outputs": [
    {
     "name": "stdout",
     "output_type": "stream",
     "text": [
      "ผลลัพธ์ของการโยนเหรียญ 100 ครั้ง: ['T', 'H', 'H', 'T', 'H', 'T', 'H', 'T', 'H', 'T', 'T', 'H', 'H', 'H', 'H', 'H', 'T', 'T', 'T', 'H', 'T', 'T', 'H', 'T', 'H', 'T', 'T', 'H', 'T', 'H', 'T', 'H', 'T', 'H', 'H', 'H', 'H', 'H', 'T', 'H', 'T', 'H', 'H', 'H', 'H', 'T', 'H', 'T', 'H', 'H', 'H', 'H', 'H', 'H', 'H', 'T', 'H', 'H', 'H', 'T', 'H', 'H', 'H', 'T', 'T', 'T', 'H', 'H', 'T', 'H', 'T', 'H', 'T', 'T', 'T', 'H', 'T', 'H', 'H', 'T', 'T', 'H', 'H', 'H', 'T', 'H', 'H', 'T', 'H', 'H', 'H', 'H', 'T', 'T', 'H', 'T', 'H', 'T', 'T', 'H']\n"
     ]
    }
   ],
   "source": [
    "num_tosses = 100\n",
    "tosses = []\n",
    "\n",
    "for i in range(num_tosses):\n",
    "    toss = np.random.rand()\n",
    "    if toss > 0.5:\n",
    "        toss = \"H\"\n",
    "    else:\n",
    "        toss = \"T\"\n",
    "    tosses.append(toss)\n",
    "\n",
    "print(\"ผลลัพธ์ของการโยนเหรียญ 100 ครั้ง:\",tosses)"
   ]
  },
  {
   "cell_type": "markdown",
   "id": "b5ecbe1e",
   "metadata": {},
   "source": [
    "5.2.3 จงสร้างฟังก์ชันชื่อ toss_fair_coin(num_tosses) มาหุ้มโค้ดที่มีอยู่ โดยฟังก์ชันจะคืนค่าเป็น\n",
    "list ของผลการโยนเหรียญ num_tosses ครั้งเหมือนในข้อ 2 จากนั้นให้เรียกใช้ฟังก์ชันดังกล่าว\n",
    "เพื่อโยนเหรียญ 1,000 ครั้ง\n"
   ]
  },
  {
   "cell_type": "code",
   "execution_count": 90,
   "id": "bb46e53e",
   "metadata": {},
   "outputs": [
    {
     "name": "stdout",
     "output_type": "stream",
     "text": [
      "ผลลัพธ์ของการโยนเหรียญ 1000 ครั้ง: ['H', 'H', 'H', 'T', 'T', 'H', 'H', 'T', 'T', 'T', 'T', 'H', 'T', 'T', 'T', 'T', 'H', 'T', 'T', 'H', 'H', 'H', 'T', 'T', 'H', 'H', 'H', 'T', 'H', 'H', 'T', 'H', 'H', 'T', 'H', 'T', 'T', 'H', 'T', 'T', 'H', 'H', 'H', 'T', 'T', 'H', 'H', 'H', 'H', 'H', 'H', 'T', 'H', 'T', 'H', 'H', 'H', 'T', 'T', 'T', 'T', 'T', 'H', 'T', 'H', 'H', 'T', 'T', 'H', 'H', 'T', 'H', 'T', 'H', 'T', 'T', 'H', 'T', 'H', 'T', 'T', 'T', 'T', 'T', 'H', 'H', 'T', 'H', 'H', 'H', 'H', 'H', 'T', 'H', 'T', 'H', 'H', 'T', 'T', 'H', 'T', 'H', 'H', 'H', 'H', 'H', 'T', 'H', 'T', 'T', 'H', 'T', 'T', 'H', 'H', 'H', 'T', 'H', 'H', 'T', 'T', 'T', 'T', 'H', 'H', 'H', 'T', 'H', 'T', 'T', 'H', 'H', 'T', 'H', 'H', 'T', 'T', 'H', 'T', 'T', 'H', 'H', 'T', 'H', 'H', 'H', 'H', 'T', 'T', 'H', 'H', 'T', 'H', 'H', 'T', 'T', 'H', 'H', 'H', 'H', 'H', 'T', 'T', 'H', 'H', 'H', 'T', 'H', 'H', 'T', 'H', 'H', 'H', 'H', 'T', 'H', 'T', 'H', 'T', 'H', 'H', 'T', 'T', 'T', 'H', 'T', 'H', 'T', 'H', 'T', 'H', 'T', 'H', 'H', 'H', 'H', 'T', 'T', 'T', 'T', 'T', 'H', 'H', 'H', 'H', 'H', 'H', 'H', 'H', 'H', 'H', 'H', 'H', 'T', 'H', 'T', 'H', 'H', 'H', 'T', 'T', 'T', 'H', 'H', 'T', 'T', 'H', 'H', 'T', 'T', 'H', 'T', 'H', 'H', 'H', 'H', 'H', 'H', 'H', 'T', 'H', 'H', 'T', 'T', 'H', 'T', 'T', 'H', 'T', 'T', 'T', 'T', 'T', 'T', 'H', 'T', 'H', 'H', 'T', 'T', 'H', 'H', 'T', 'H', 'H', 'T', 'T', 'T', 'H', 'H', 'T', 'H', 'H', 'H', 'T', 'T', 'T', 'H', 'H', 'T', 'H', 'T', 'T', 'T', 'T', 'T', 'H', 'T', 'H', 'H', 'T', 'H', 'T', 'H', 'T', 'H', 'H', 'T', 'T', 'T', 'T', 'T', 'H', 'T', 'H', 'H', 'T', 'H', 'T', 'T', 'H', 'H', 'H', 'T', 'H', 'T', 'T', 'H', 'T', 'T', 'T', 'T', 'H', 'H', 'T', 'H', 'T', 'H', 'H', 'H', 'H', 'T', 'H', 'H', 'H', 'H', 'T', 'H', 'H', 'T', 'H', 'T', 'T', 'T', 'H', 'T', 'H', 'T', 'T', 'T', 'T', 'H', 'T', 'T', 'T', 'H', 'T', 'H', 'T', 'H', 'T', 'T', 'H', 'H', 'T', 'H', 'T', 'H', 'H', 'H', 'T', 'T', 'H', 'T', 'T', 'T', 'H', 'T', 'T', 'T', 'H', 'T', 'H', 'H', 'H', 'H', 'H', 'H', 'H', 'H', 'T', 'T', 'H', 'H', 'T', 'H', 'T', 'H', 'H', 'T', 'T', 'T', 'H', 'H', 'H', 'T', 'T', 'T', 'T', 'T', 'T', 'T', 'H', 'H', 'H', 'T', 'H', 'H', 'T', 'T', 'H', 'H', 'T', 'H', 'H', 'T', 'H', 'T', 'H', 'H', 'T', 'T', 'T', 'T', 'H', 'T', 'T', 'H', 'T', 'T', 'H', 'T', 'H', 'T', 'H', 'T', 'T', 'T', 'H', 'T', 'T', 'T', 'H', 'T', 'T', 'H', 'T', 'H', 'H', 'H', 'T', 'T', 'T', 'H', 'T', 'H', 'T', 'T', 'T', 'H', 'T', 'H', 'H', 'T', 'H', 'H', 'T', 'H', 'T', 'H', 'H', 'H', 'H', 'T', 'T', 'T', 'H', 'T', 'T', 'H', 'H', 'T', 'H', 'T', 'T', 'H', 'H', 'T', 'H', 'H', 'H', 'T', 'T', 'T', 'H', 'H', 'H', 'H', 'T', 'T', 'H', 'T', 'H', 'H', 'T', 'T', 'T', 'H', 'T', 'T', 'T', 'H', 'H', 'T', 'T', 'T', 'T', 'T', 'H', 'T', 'H', 'H', 'H', 'H', 'H', 'T', 'H', 'H', 'T', 'H', 'T', 'H', 'H', 'H', 'H', 'H', 'T', 'H', 'T', 'T', 'H', 'T', 'H', 'T', 'T', 'T', 'T', 'H', 'T', 'H', 'H', 'T', 'H', 'T', 'T', 'T', 'H', 'T', 'T', 'T', 'H', 'T', 'T', 'H', 'H', 'T', 'T', 'H', 'H', 'H', 'H', 'H', 'T', 'T', 'T', 'H', 'T', 'T', 'H', 'T', 'H', 'H', 'T', 'H', 'T', 'H', 'T', 'T', 'H', 'T', 'H', 'H', 'T', 'T', 'T', 'T', 'H', 'H', 'H', 'H', 'H', 'T', 'T', 'T', 'T', 'T', 'H', 'T', 'T', 'H', 'H', 'H', 'T', 'H', 'T', 'H', 'H', 'H', 'T', 'H', 'T', 'H', 'H', 'T', 'H', 'T', 'T', 'H', 'H', 'H', 'T', 'T', 'T', 'T', 'T', 'T', 'T', 'T', 'T', 'T', 'T', 'H', 'H', 'T', 'H', 'T', 'T', 'H', 'H', 'H', 'T', 'T', 'H', 'T', 'H', 'T', 'H', 'H', 'H', 'H', 'T', 'H', 'H', 'H', 'H', 'T', 'T', 'T', 'H', 'T', 'H', 'T', 'T', 'H', 'T', 'H', 'T', 'T', 'H', 'T', 'H', 'H', 'T', 'T', 'H', 'T', 'T', 'T', 'H', 'H', 'T', 'T', 'T', 'H', 'T', 'T', 'T', 'T', 'H', 'H', 'T', 'H', 'T', 'H', 'H', 'T', 'T', 'H', 'H', 'T', 'T', 'T', 'H', 'H', 'H', 'T', 'T', 'H', 'T', 'H', 'T', 'H', 'H', 'H', 'H', 'H', 'H', 'H', 'H', 'H', 'H', 'H', 'T', 'H', 'H', 'H', 'T', 'T', 'H', 'T', 'T', 'H', 'T', 'H', 'T', 'H', 'T', 'H', 'H', 'H', 'H', 'H', 'H', 'T', 'H', 'H', 'H', 'H', 'T', 'T', 'H', 'T', 'H', 'H', 'H', 'T', 'H', 'H', 'T', 'H', 'T', 'T', 'H', 'T', 'T', 'H', 'T', 'T', 'T', 'H', 'T', 'H', 'T', 'H', 'H', 'T', 'T', 'T', 'H', 'H', 'H', 'H', 'T', 'H', 'H', 'H', 'H', 'T', 'T', 'H', 'T', 'H', 'T', 'H', 'T', 'T', 'T', 'H', 'T', 'T', 'T', 'T', 'T', 'H', 'H', 'H', 'T', 'T', 'T', 'H', 'T', 'T', 'T', 'H', 'H', 'T', 'H', 'H', 'H', 'T', 'T', 'H', 'T', 'T', 'H', 'H', 'H', 'H', 'T', 'T', 'H', 'T', 'H', 'T', 'T', 'H', 'T', 'T', 'H', 'H', 'H', 'H', 'H', 'H', 'H', 'H', 'T', 'H', 'H', 'H', 'T', 'H', 'T', 'T', 'T', 'T', 'T', 'H', 'T', 'H', 'T', 'T', 'H', 'H', 'T', 'H', 'T', 'T', 'H', 'H', 'T', 'H', 'T', 'T', 'T', 'H', 'T', 'H', 'H', 'T', 'H', 'T', 'T', 'T', 'H', 'T', 'H', 'T', 'T', 'H', 'H', 'H', 'T', 'H', 'T', 'T', 'H', 'T', 'H', 'H', 'T', 'T', 'T', 'H', 'H', 'H', 'T', 'T', 'T', 'T', 'T', 'T', 'T', 'H', 'T', 'T', 'T', 'H', 'T', 'H', 'T', 'H', 'H', 'T', 'T', 'H', 'H', 'H', 'T', 'T', 'H', 'H', 'H', 'H', 'H', 'T', 'H', 'H', 'H', 'T', 'T', 'T', 'T', 'H', 'T', 'H', 'T', 'H', 'H', 'H', 'T', 'T', 'H', 'H', 'T', 'T', 'H', 'T', 'H', 'T', 'H', 'H', 'T', 'T', 'H', 'T', 'H', 'T', 'T', 'H', 'T', 'T', 'H', 'T', 'T', 'H', 'H', 'H', 'T', 'T']\n"
     ]
    }
   ],
   "source": [
    "def toss_fair_coin(num_tosses):\n",
    "    \n",
    "    results = []\n",
    "    for i in range(num_tosses):\n",
    "        toss = np.random.rand()\n",
    "        if toss > 0.5:\n",
    "            toss = \"H\"\n",
    "        else:\n",
    "            toss = \"T\"\n",
    "        results.append(toss)\n",
    "    return results\n",
    "\n",
    "tosses = toss_fair_coin(1000)\n",
    "print(\"ผลลัพธ์ของการโยนเหรียญ 1000 ครั้ง:\",tosses)\n"
   ]
  },
  {
   "cell_type": "markdown",
   "id": "2eff7fd7",
   "metadata": {},
   "source": [
    "5.2.4 จงใช้คำสั่ง list.count() เพื่อนับว่าในการโยน 1,000 ครั้งนั้น เหรียญออกหัวทั้งหมดกี่ครั้ง (หาก\n",
    "ไม่ทราบวิธีใช้ count() ให้กด SHIFT+TAB ที่ชื่อฟังก์ชัน เพื่อเปิดอ่านวิธีใช้ใน docstring)\n"
   ]
  },
  {
   "cell_type": "code",
   "execution_count": 74,
   "id": "e4548ccb",
   "metadata": {},
   "outputs": [
    {
     "name": "stdout",
     "output_type": "stream",
     "text": [
      "ผลลัพธ์ของจำนวนเหรียญที่ออกหัว 1000 ครั้ง: 506\n"
     ]
    }
   ],
   "source": [
    "def toss_fair_coin(num_tosses):\n",
    "    \n",
    "    results = []\n",
    "    for i in range(num_tosses):\n",
    "        toss = np.random.rand()\n",
    "        if toss > 0.5:\n",
    "            toss = \"H\"\n",
    "        else:\n",
    "            toss = \"T\"\n",
    "        results.append(toss)\n",
    "    return results\n",
    "\n",
    "tosses = toss_fair_coin(1000)\n",
    "num_heads = tosses.count(\"H\")\n",
    "print(\"ผลลัพธ์ของจำนวนเหรียญที่ออกหัว 1000 ครั้ง:\",num_heads)\n"
   ]
  },
  {
   "cell_type": "markdown",
   "id": "4f05febe",
   "metadata": {},
   "source": [
    "5.2.5 จงใช้คำสั่ง hist() ซึ่งอยู่ใน library ชื่อ matplotlib.pyplot ในการวาดกราฟฮิสโตแกรมของ\n",
    "เหรียญที่ออก"
   ]
  },
  {
   "cell_type": "code",
   "execution_count": 97,
   "id": "ecdc8a06",
   "metadata": {},
   "outputs": [
    {
     "data": {
      "text/plain": [
       "(array([496.,   0.,   0.,   0.,   0.,   0.,   0.,   0.,   0., 504.]),\n",
       " array([0. , 0.1, 0.2, 0.3, 0.4, 0.5, 0.6, 0.7, 0.8, 0.9, 1. ]),\n",
       " <BarContainer object of 10 artists>)"
      ]
     },
     "execution_count": 97,
     "metadata": {},
     "output_type": "execute_result"
    },
    {
     "data": {
      "image/png": "[encoded data removed]",
      "text/plain": [
       "<Figure size 640x480 with 1 Axes>"
      ]
     },
     "metadata": {},
     "output_type": "display_data"
    }
   ],
   "source": [
    "import matplotlib.pyplot as plt\n",
    "\n",
    "def toss_fair_coin(num_tosses):\n",
    "    \n",
    "    results = []\n",
    "    for i in range(num_tosses):\n",
    "        toss = np.random.rand()\n",
    "        if toss > 0.5:\n",
    "            toss = \"H\"\n",
    "        else:\n",
    "            toss = \"T\"\n",
    "        results.append(toss)\n",
    "    return results\n",
    "\n",
    "tosses = toss_fair_coin(1000)\n",
    "\n",
    "plt.hist(tosses)"
   ]
  }
 ],
 "metadata": {
  "kernelspec": {
   "display_name": "Python 3 (ipykernel)",
   "language": "python",
   "name": "python3"
  },
  "language_info": {
   "codemirror_mode": {
    "name": "ipython",
    "version": 3
   },
   "file_extension": ".py",
   "mimetype": "text/x-python",
   "name": "python",
   "nbconvert_exporter": "python",
   "pygments_lexer": "ipython3",
   "version": "3.11.5"
  }
 },
 "nbformat": 4,
 "nbformat_minor": 5
}
